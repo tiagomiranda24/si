{
 "cells": [
  {
   "cell_type": "markdown",
   "metadata": {},
   "source": [
    "Test the \"KNNRegressor\" class using the \"cpu.csv\"\n",
    "dataset (regression)."
   ]
  },
  {
   "cell_type": "code",
   "execution_count": 15,
   "metadata": {},
   "outputs": [],
   "source": [
    "import os\n",
    "import numpy as np\n",
    "from si.data.dataset import Dataset\n",
    "from si.io.csv_file import read_csv\n",
    "from si.model_selection.split import train_test_split\n",
    "from si.metrics.mse import mse\n",
    "from si.metrics.rmse import rmse\n",
    "from si.models.knn_regressor import KNNRegressor"
   ]
  },
  {
   "cell_type": "code",
   "execution_count": 16,
   "metadata": {},
   "outputs": [],
   "source": [
    "path = r\"C:\\Users\\tiago\\OneDrive\\Documentos\\GitHub\\si\\datasets\"\n",
    "csv_file = os.path.join(path, 'cpu', 'cpu.csv')\n",
    "cpu_data= read_csv(csv_file, sep=\",\", features=True, label=True)"
   ]
  },
  {
   "cell_type": "code",
   "execution_count": 18,
   "metadata": {},
   "outputs": [],
   "source": [
    "train_dataset, test_dataset = train_test_split(cpu_data, test_size=0.2, random_state=42)"
   ]
  },
  {
   "cell_type": "code",
   "execution_count": 24,
   "metadata": {},
   "outputs": [
    {
     "data": {
      "text/plain": [
       "<si.models.knn_regressor.KNNRegressor at 0x2474e54b2d0>"
      ]
     },
     "execution_count": 24,
     "metadata": {},
     "output_type": "execute_result"
    }
   ],
   "source": [
    "# Initialize the KNN regressor with k=3 \n",
    "knn_regressor = KNNRegressor(k=3)\n",
    "\n",
    "# Fit the model to the training dataset\n",
    "knn_regressor.fit(train_dataset)"
   ]
  },
  {
   "cell_type": "code",
   "execution_count": 25,
   "metadata": {},
   "outputs": [],
   "source": [
    "# Predict the values for the test dataset\n",
    "y_pred = knn_regressor.predict(test_dataset)\n",
    "\n",
    "# Calculate the RMSE\n",
    "rmse_custom = rmse(test_dataset.y, y_pred)"
   ]
  },
  {
   "cell_type": "code",
   "execution_count": 26,
   "metadata": {},
   "outputs": [
    {
     "name": "stdout",
     "output_type": "stream",
     "text": [
      "RMSE of the custom KNN model: 81.36259969252635\n"
     ]
    }
   ],
   "source": [
    "# Print the RMSE value to evaluate the performance of the model\n",
    "print(f\"RMSE of the custom KNN model: {rmse_custom}\")"
   ]
  }
 ],
 "metadata": {
  "kernelspec": {
   "display_name": "tiago",
   "language": "python",
   "name": "python3"
  },
  "language_info": {
   "codemirror_mode": {
    "name": "ipython",
    "version": 3
   },
   "file_extension": ".py",
   "mimetype": "text/x-python",
   "name": "python",
   "nbconvert_exporter": "python",
   "pygments_lexer": "ipython3",
   "version": "3.11.9"
  }
 },
 "nbformat": 4,
 "nbformat_minor": 2
}
