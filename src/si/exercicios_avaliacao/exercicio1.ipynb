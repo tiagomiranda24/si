{
 "cells": [
  {
   "cell_type": "markdown",
   "metadata": {},
   "source": [
    "• 1.1) In this exercise, we will use the iris dataset. Load\n",
    "the \"iris.csv\" using the appropriate method for this file\n",
    "type (use the new functions from the package)."
   ]
  },
  {
   "cell_type": "code",
   "execution_count": 1,
   "metadata": {},
   "outputs": [
    {
     "name": "stdout",
     "output_type": "stream",
     "text": [
      "[[5.1 3.5 1.4 0.2 'Iris-setosa']\n",
      " [4.9 3.0 1.4 0.2 'Iris-setosa']\n",
      " [4.7 3.2 1.3 0.2 'Iris-setosa']\n",
      " [4.6 3.1 1.5 0.2 'Iris-setosa']\n",
      " [5.0 3.6 1.4 0.2 'Iris-setosa']]\n"
     ]
    }
   ],
   "source": [
    "import numpy as np\n",
    "import pandas as pd\n",
    "\n",
    "path = r\"C:\\Users\\tiago\\OneDrive\\Documentos\\GitHub\\si\\datasets\\iris\\iris.csv\"\n",
    "\n",
    "iris_df = pd.read_csv(path)\n",
    "iris_array = iris_df.to_numpy()\n",
    "print(iris_array[:5])"
   ]
  },
  {
   "cell_type": "markdown",
   "metadata": {},
   "source": [
    "• 1.2) Select the penultimate independent variable.\n",
    "What is the dimension of the resulting array?"
   ]
  },
  {
   "cell_type": "code",
   "execution_count": 2,
   "metadata": {},
   "outputs": [
    {
     "name": "stdout",
     "output_type": "stream",
     "text": [
      "Penultimate column (independent variable): [0.2 0.2 0.2 0.2 0.2 0.4 0.3 0.2 0.2 0.1 0.2 0.2 0.1 0.1 0.2 0.4 0.4 0.3\n",
      " 0.3 0.3 0.2 0.4 0.2 0.5 0.2 0.2 0.4 0.2 0.2 0.2 0.2 0.4 0.1 0.2 0.1 0.2\n",
      " 0.2 0.1 0.2 0.2 0.3 0.3 0.2 0.6 0.4 0.3 0.2 0.2 0.2 0.2 1.4 1.5 1.5 1.3\n",
      " 1.5 1.3 1.6 1.0 1.3 1.4 1.0 1.5 1.0 1.4 1.3 1.4 1.5 1.0 1.5 1.1 1.8 1.3\n",
      " 1.5 1.2 1.3 1.4 1.4 1.7 1.5 1.0 1.1 1.0 1.2 1.6 1.5 1.6 1.5 1.3 1.3 1.3\n",
      " 1.2 1.4 1.2 1.0 1.3 1.2 1.3 1.3 1.1 1.3 2.5 1.9 2.1 1.8 2.2 2.1 1.7 1.8\n",
      " 1.8 2.5 2.0 1.9 2.1 2.0 2.4 2.3 1.8 2.2 2.3 1.5 2.3 2.0 2.0 1.8 2.1 1.8\n",
      " 1.8 1.8 2.1 1.6 1.9 2.0 2.2 1.5 1.4 2.3 2.4 1.8 1.8 2.1 2.4 2.3 1.9 2.3\n",
      " 2.5 2.3 1.9 2.0 2.3 1.8]\n",
      "Dimension of the array: (150,)\n"
     ]
    }
   ],
   "source": [
    "# 1. Select the penultimate independent variable (second to last column)\n",
    "penultimate_column = iris_array[:, -2]  \n",
    "\n",
    "# 2. Check the dimension of the resulting array\n",
    "print(\"Penultimate column (independent variable):\", penultimate_column)\n",
    "print(\"Dimension of the array:\", penultimate_column.shape)"
   ]
  },
  {
   "cell_type": "markdown",
   "metadata": {},
   "source": [
    "• 1.3) Select the last 10 samples from the iris dataset.\n",
    "What is the mean of the last 10 samples for each\n",
    "independent variable/feature?"
   ]
  },
  {
   "cell_type": "code",
   "execution_count": 3,
   "metadata": {},
   "outputs": [
    {
     "name": "stdout",
     "output_type": "stream",
     "text": [
      "Last 10 samples:\n",
      " [[6.7 3.1 5.6 2.4]\n",
      " [6.9 3.1 5.1 2.3]\n",
      " [5.8 2.7 5.1 1.9]\n",
      " [6.8 3.2 5.9 2.3]\n",
      " [6.7 3.3 5.7 2.5]\n",
      " [6.7 3.0 5.2 2.3]\n",
      " [6.3 2.5 5.0 1.9]\n",
      " [6.5 3.0 5.2 2.0]\n",
      " [6.2 3.4 5.4 2.3]\n",
      " [5.9 3.0 5.1 1.8]]\n",
      "\n",
      "Mean of the last 10 samples for each independent variable:\n",
      " [6.450000000000001 3.0300000000000002 5.33 2.1700000000000004]\n"
     ]
    }
   ],
   "source": [
    "# 1. Select the last 10 rows and all columns except the last (dependent variable)\n",
    "last_10_samples = iris_array[-10:, :-1] \n",
    "\n",
    "# 2. Calculate the mean of each independent variable (per column)\n",
    "mean_last_10_samples = np.mean(last_10_samples, axis=0)\n",
    "\n",
    "# 3. Show the result\n",
    "print(\"Last 10 samples:\\n\", last_10_samples)\n",
    "print(\"\\nMean of the last 10 samples for each independent variable:\\n\", mean_last_10_samples)"
   ]
  },
  {
   "cell_type": "markdown",
   "metadata": {},
   "source": [
    "• 1.4) Select all samples from the dataset with values\n",
    "less than or equal to 6 for all independent\n",
    "variables/features. How many samples do you obtain?"
   ]
  },
  {
   "cell_type": "code",
   "execution_count": 4,
   "metadata": {},
   "outputs": [
    {
     "name": "stdout",
     "output_type": "stream",
     "text": [
      "Number of samples with all variables <= 6: 89\n"
     ]
    }
   ],
   "source": [
    "# 1. Select the independent variables (all columns except the last)\n",
    "independent_variables = iris_array[:, :-1]\n",
    "\n",
    "# 2. Apply the condition: Select samples where all values are <= 6\n",
    "samples_with_values_leq_6 = independent_variables[np.all(independent_variables <= 6, axis=1)]\n",
    "\n",
    "# 3. Count the number of samples that meet this condition\n",
    "num_samples = samples_with_values_leq_6.shape[0]\n",
    "\n",
    "print(\"Number of samples with all variables <= 6:\", num_samples)"
   ]
  },
  {
   "cell_type": "markdown",
   "metadata": {},
   "source": [
    "• 1.5) Select all samples with a class/label different\n",
    "from 'Iris-setosa'. How many samples do you obtain"
   ]
  },
  {
   "cell_type": "code",
   "execution_count": 5,
   "metadata": {},
   "outputs": [
    {
     "name": "stdout",
     "output_type": "stream",
     "text": [
      "Number of samples with class different from 'Iris-setosa': 100\n"
     ]
    }
   ],
   "source": [
    "# 1. Select the class column (last column)\n",
    "labels = iris_array[:, -1]  \n",
    "\n",
    "# 2. Filter samples whose class is different from 'Iris-setosa'\n",
    "non_setosa_samples = iris_array[labels != 'Iris-setosa']\n",
    "\n",
    "# 3. Count the number of samples that meet this condition\n",
    "num_non_setosa = non_setosa_samples.shape[0]\n",
    "\n",
    "# 4. Display the result\n",
    "print(\"Number of samples with class different from 'Iris-setosa':\", num_non_setosa)"
   ]
  }
 ],
 "metadata": {
  "kernelspec": {
   "display_name": "tiago",
   "language": "python",
   "name": "python3"
  },
  "language_info": {
   "codemirror_mode": {
    "name": "ipython",
    "version": 3
   },
   "file_extension": ".py",
   "mimetype": "text/x-python",
   "name": "python",
   "nbconvert_exporter": "python",
   "pygments_lexer": "ipython3",
   "version": "3.11.9"
  }
 },
 "nbformat": 4,
 "nbformat_minor": 2
}
