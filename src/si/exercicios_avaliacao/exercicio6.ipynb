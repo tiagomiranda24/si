{
 "cells": [
  {
   "cell_type": "markdown",
   "metadata": {},
   "source": [
    "Test the \"stratified_train_test_split\" function\n",
    "with the iris dataset."
   ]
  },
  {
   "cell_type": "code",
   "execution_count": 21,
   "metadata": {},
   "outputs": [],
   "source": [
    "import os\n",
    "import numpy as np\n",
    "from si.data.dataset import Dataset\n",
    "from si.io.csv_file import read_csv\n",
    "from si.model_selection.split import stratified_train_test_split"
   ]
  },
  {
   "cell_type": "code",
   "execution_count": 22,
   "metadata": {},
   "outputs": [],
   "source": [
    "path = r\"C:\\Users\\tiago\\OneDrive\\Documentos\\GitHub\\si\\datasets\"\n",
    "csv_file = os.path.join(path, 'iris', 'iris.csv')\n",
    "\n",
    "dataset = read_csv(filename=csv_file, features=True, label=True)"
   ]
  },
  {
   "cell_type": "code",
   "execution_count": 23,
   "metadata": {},
   "outputs": [
    {
     "name": "stdout",
     "output_type": "stream",
     "text": [
      "Class distribution in the original dataset:\n",
      "Class Iris-setosa: 50 samples\n",
      "Class Iris-versicolor: 50 samples\n",
      "Class Iris-virginica: 50 samples\n"
     ]
    }
   ],
   "source": [
    "unique_labels, counts = np.unique(dataset.y, return_counts=True)\n",
    "print(\"Class distribution in the original dataset:\")\n",
    "for label, count in zip(unique_labels, counts):\n",
    "    print(f\"Class {label}: {count} samples\")"
   ]
  },
  {
   "cell_type": "code",
   "execution_count": 24,
   "metadata": {},
   "outputs": [
    {
     "name": "stdout",
     "output_type": "stream",
     "text": [
      "Training set size: 120\n",
      "Test set size: 30\n"
     ]
    }
   ],
   "source": [
    "train, test = stratified_train_test_split(dataset, test_size=0.2, random_state=42)\n",
    "print(\"Training set size:\", train.shape()[0])\n",
    "print(\"Test set size:\", test.shape()[0])"
   ]
  },
  {
   "cell_type": "code",
   "execution_count": 25,
   "metadata": {},
   "outputs": [
    {
     "name": "stdout",
     "output_type": "stream",
     "text": [
      "Train set class distribution: {'Iris-setosa': np.int64(40), 'Iris-versicolor': np.int64(40), 'Iris-virginica': np.int64(40)}\n",
      "Test set class distribution: {'Iris-setosa': np.int64(10), 'Iris-versicolor': np.int64(10), 'Iris-virginica': np.int64(10)}\n"
     ]
    }
   ],
   "source": [
    "train_labels, counts_train = np.unique(train.y, return_counts=True)\n",
    "test_labels, counts_test = np.unique(test.y, return_counts=True)\n",
    "\n",
    "print(\"Train set class distribution:\", dict(zip(train_labels, counts_train)))\n",
    "print(\"Test set class distribution:\", dict(zip(test_labels, counts_test)))"
   ]
  }
 ],
 "metadata": {
  "kernelspec": {
   "display_name": "tiago",
   "language": "python",
   "name": "python3"
  },
  "language_info": {
   "codemirror_mode": {
    "name": "ipython",
    "version": 3
   },
   "file_extension": ".py",
   "mimetype": "text/x-python",
   "name": "python",
   "nbconvert_exporter": "python",
   "pygments_lexer": "ipython3",
   "version": "3.11.9"
  }
 },
 "nbformat": 4,
 "nbformat_minor": 2
}
