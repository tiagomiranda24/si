{
 "cells": [
  {
   "cell_type": "markdown",
   "metadata": {},
   "source": [
    "Test the \"stratified_train_test_split\" function\n",
    "with the iris dataset."
   ]
  },
  {
   "cell_type": "code",
   "execution_count": 9,
   "metadata": {},
   "outputs": [],
   "source": [
    "import numpy as np\n",
    "from si.data.dataset import Dataset\n",
    "from si.io.csv_file import read_csv\n",
    "from si.model_selection.split import stratified_train_test_split\n",
    "import os"
   ]
  },
  {
   "cell_type": "code",
   "execution_count": 10,
   "metadata": {},
   "outputs": [],
   "source": [
    "DATASETS_PATH = r\"C:\\Users\\tiago\\OneDrive\\Documentos\\GitHub\\si\\datasets\"\n",
    "csv_file = os.path.join(DATASETS_PATH, 'iris', 'iris.csv')\n",
    "\n",
    "dataset = read_csv(filename=csv_file, features=True, label=True)"
   ]
  },
  {
   "cell_type": "code",
   "execution_count": 13,
   "metadata": {},
   "outputs": [],
   "source": [
    "train, test = stratified_train_test_split(dataset, test_size=0.2, random_state=42)"
   ]
  },
  {
   "cell_type": "code",
   "execution_count": 17,
   "metadata": {},
   "outputs": [
    {
     "name": "stdout",
     "output_type": "stream",
     "text": [
      "Training set size: (120, 4)\n",
      "Test set size: (30, 4)\n"
     ]
    }
   ],
   "source": [
    "print(\"Training set size:\", train.shape())\n",
    "print(\"Test set size:\", test.shape())"
   ]
  },
  {
   "cell_type": "code",
   "execution_count": 19,
   "metadata": {},
   "outputs": [
    {
     "name": "stdout",
     "output_type": "stream",
     "text": [
      "Classes no conjunto de treino: ['Iris-setosa' 'Iris-versicolor' 'Iris-virginica']\n",
      "Contagens de cada classe no conjunto de treino: [40 40 40]\n"
     ]
    }
   ],
   "source": [
    "unique_classes, class_counts = np.unique(train.y, return_counts=True)\n",
    "\n",
    "print(\"Classes no conjunto de treino:\", unique_classes)\n",
    "print(\"Contagens de cada classe no conjunto de treino:\", class_counts)"
   ]
  },
  {
   "cell_type": "code",
   "execution_count": 22,
   "metadata": {},
   "outputs": [
    {
     "name": "stdout",
     "output_type": "stream",
     "text": [
      "Classes no conjunto de teste: ['Iris-setosa' 'Iris-versicolor' 'Iris-virginica']\n",
      "Contagens de cada classe no conjunto de teste: [10 10 10]\n"
     ]
    }
   ],
   "source": [
    "unique_classes, class_counts = np.unique(test.y, return_counts=True)\n",
    "\n",
    "print(\"Classes no conjunto de teste:\", unique_classes)\n",
    "print(\"Contagens de cada classe no conjunto de teste:\", class_counts)"
   ]
  }
 ],
 "metadata": {
  "kernelspec": {
   "display_name": "tiago",
   "language": "python",
   "name": "python3"
  },
  "language_info": {
   "codemirror_mode": {
    "name": "ipython",
    "version": 3
   },
   "file_extension": ".py",
   "mimetype": "text/x-python",
   "name": "python",
   "nbconvert_exporter": "python",
   "pygments_lexer": "ipython3",
   "version": "3.11.9"
  }
 },
 "nbformat": 4,
 "nbformat_minor": 2
}
