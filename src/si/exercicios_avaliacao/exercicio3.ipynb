{
 "cells": [
  {
   "cell_type": "code",
   "execution_count": 15,
   "metadata": {},
   "outputs": [],
   "source": [
    "import numpy as np\n",
    "from si.io.csv_file import read_csv\n",
    "from si.data.dataset import Dataset\n",
    "from si.statistics.f_classification import f_classification\n",
    "from si.feature_selection.select_percentile import SelectPercentile\n",
    "path = r\"C:\\Users\\tiago\\OneDrive\\Documentos\\GitHub\\si\\datasets\\iris\\iris.csv\""
   ]
  },
  {
   "cell_type": "markdown",
   "metadata": {},
   "source": [
    "3.3) Test the SelectPercentile class in a Jupyter\n",
    "notebook using the \"iris.csv\" dataset\n",
    "(classification)."
   ]
  },
  {
   "cell_type": "code",
   "execution_count": 16,
   "metadata": {},
   "outputs": [
    {
     "name": "stdout",
     "output_type": "stream",
     "text": [
      "Features: Index(['sepal_length', 'sepal_width', 'petal_length', 'petal_width'], dtype='object')\n",
      "Label: class\n"
     ]
    }
   ],
   "source": [
    "iris = read_csv(path, sep=\",\", features=True, label=True)\n",
    "\n",
    "# Accessing the features and the label\n",
    "features = iris.features\n",
    "print(\"Features:\", features)\n",
    "label = iris.label\n",
    "print(\"Label:\", label)"
   ]
  },
  {
   "cell_type": "code",
   "execution_count": 17,
   "metadata": {},
   "outputs": [
    {
     "name": "stdout",
     "output_type": "stream",
     "text": [
      "Selected features: ['petal_width', 'petal_length']\n",
      "New shape of the dataset: (150, 2)\n"
     ]
    }
   ],
   "source": [
    "# Extracting the data from X (features) and y (label) from the dataset\n",
    "X = iris.X\n",
    "y = iris.y\n",
    "\n",
    "# Creating the Dataset compatible with SelectPercentile\n",
    "dataset = Dataset(X=X, y=y, features=features, label=\"Species\")\n",
    "\n",
    "# Instantiating the selector with a 50% percentile\n",
    "selector = SelectPercentile(score_func=f_classification, percentile=50)\n",
    "\n",
    "# Fitting and transforming the dataset\n",
    "selector = selector.fit(dataset)\n",
    "transformed_dataset = selector.transform(dataset)\n",
    "\n",
    "# Printing the selected features\n",
    "print(\"Selected features:\", transformed_dataset.features)\n",
    "print(\"New shape of the dataset:\", transformed_dataset.X.shape)"
   ]
  }
 ],
 "metadata": {
  "kernelspec": {
   "display_name": "tiago",
   "language": "python",
   "name": "python3"
  },
  "language_info": {
   "codemirror_mode": {
    "name": "ipython",
    "version": 3
   },
   "file_extension": ".py",
   "mimetype": "text/x-python",
   "name": "python",
   "nbconvert_exporter": "python",
   "pygments_lexer": "ipython3",
   "version": "3.11.9"
  }
 },
 "nbformat": 4,
 "nbformat_minor": 2
}
