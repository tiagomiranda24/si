{
 "cells": [
  {
   "cell_type": "markdown",
   "metadata": {},
   "source": [
    "3.3) Test the SelectPercentile class in a Jupyter\n",
    "notebook using the \"iris.csv\" dataset\n",
    "(classification)."
   ]
  },
  {
   "cell_type": "code",
   "execution_count": 20,
   "metadata": {},
   "outputs": [
    {
     "ename": "ImportError",
     "evalue": "cannot import name 'SelectPercentile' from 'si.feature_selection.select_percentile' (c:\\users\\tiago\\onedrive\\documentos\\github\\si\\src\\si\\feature_selection\\select_percentile.py)",
     "output_type": "error",
     "traceback": [
      "\u001b[1;31m---------------------------------------------------------------------------\u001b[0m",
      "\u001b[1;31mImportError\u001b[0m                               Traceback (most recent call last)",
      "Cell \u001b[1;32mIn[20], line 4\u001b[0m\n\u001b[0;32m      2\u001b[0m \u001b[38;5;28;01mfrom\u001b[39;00m \u001b[38;5;21;01msi\u001b[39;00m\u001b[38;5;21;01m.\u001b[39;00m\u001b[38;5;21;01mdata\u001b[39;00m\u001b[38;5;21;01m.\u001b[39;00m\u001b[38;5;21;01mdataset\u001b[39;00m \u001b[38;5;28;01mimport\u001b[39;00m Dataset\n\u001b[0;32m      3\u001b[0m \u001b[38;5;28;01mfrom\u001b[39;00m \u001b[38;5;21;01msi\u001b[39;00m\u001b[38;5;21;01m.\u001b[39;00m\u001b[38;5;21;01mstatistics\u001b[39;00m\u001b[38;5;21;01m.\u001b[39;00m\u001b[38;5;21;01mf_classification\u001b[39;00m \u001b[38;5;28;01mimport\u001b[39;00m f_classification\n\u001b[1;32m----> 4\u001b[0m \u001b[38;5;28;01mfrom\u001b[39;00m \u001b[38;5;21;01msi\u001b[39;00m\u001b[38;5;21;01m.\u001b[39;00m\u001b[38;5;21;01mfeature_selection\u001b[39;00m\u001b[38;5;21;01m.\u001b[39;00m\u001b[38;5;21;01mselect_percentile\u001b[39;00m \u001b[38;5;28;01mimport\u001b[39;00m SelectPercentile\n\u001b[0;32m      5\u001b[0m \u001b[38;5;28;01mimport\u001b[39;00m \u001b[38;5;21;01mnumpy\u001b[39;00m \u001b[38;5;28;01mas\u001b[39;00m \u001b[38;5;21;01mnp\u001b[39;00m\n\u001b[0;32m      7\u001b[0m \u001b[38;5;66;03m# Carregar o dataset Iris do scikit-learn\u001b[39;00m\n",
      "\u001b[1;31mImportError\u001b[0m: cannot import name 'SelectPercentile' from 'si.feature_selection.select_percentile' (c:\\users\\tiago\\onedrive\\documentos\\github\\si\\src\\si\\feature_selection\\select_percentile.py)"
     ]
    }
   ],
   "source": [
    "from sklearn.datasets import load_iris\n",
    "from si.data.dataset import Dataset\n",
    "from si.statistics.f_classification import f_classification\n",
    "from si.feature_selection.select_percentile import SelectPercentile\n",
    "import numpy as np\n",
    "\n",
    "\n",
    "# Carregar o dataset Iris do scikit-learn\n",
    "iris = load_iris()\n",
    "X = iris.data  \n",
    "y = iris.target  \n",
    "features = iris.feature_names  # Nomes das características\n",
    "\n",
    "# Criar um Dataset compatível com o SelectPercentile\n",
    "dataset = Dataset(X=X, y=y, features=features, label=\"Species\")\n",
    "\n",
    "# Instanciar o SelectPercentile com percentile de 50%\n",
    "selector = SelectPercentile(score_func=f_classification, percentile=50)\n",
    "\n",
    "# Ajustar e transformar o dataset\n",
    "selector = selector.fit(dataset)\n",
    "transformed_dataset = selector.transform(dataset)\n",
    "\n",
    "# Imprimir os nomes das características selecionadas\n",
    "print(\"Características selecionadas:\", transformed_dataset.features)\n",
    "\n",
    "# Exibir as novas características do conjunto de dados transformado\n",
    "print(\"Novo conjunto de características (X):\\n\", transformed_dataset.X)\n",
    "print(\"Rótulos (y):\\n\", transformed_dataset.y)\n"
   ]
  },
  {
   "cell_type": "code",
   "execution_count": null,
   "metadata": {},
   "outputs": [],
   "source": []
  }
 ],
 "metadata": {
  "kernelspec": {
   "display_name": "tiago",
   "language": "python",
   "name": "python3"
  },
  "language_info": {
   "codemirror_mode": {
    "name": "ipython",
    "version": 3
   },
   "file_extension": ".py",
   "mimetype": "text/x-python",
   "name": "python",
   "nbconvert_exporter": "python",
   "pygments_lexer": "ipython3",
   "version": "3.11.9"
  }
 },
 "nbformat": 4,
 "nbformat_minor": 2
}
